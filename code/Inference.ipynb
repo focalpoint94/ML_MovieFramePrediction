{
 "cells": [
  {
   "cell_type": "code",
   "execution_count": 1,
   "metadata": {},
   "outputs": [
    {
     "name": "stderr",
     "output_type": "stream",
     "text": [
      "Using TensorFlow backend.\n"
     ]
    }
   ],
   "source": [
    "import tensorflow as tf\n",
    "import keras\n",
    "import matplotlib.pyplot as plt\n",
    "import numpy as np\n",
    "from data_utils import get_train_batch, get_val_batch, get_test_batch\n",
    "from keras.layers import Input, Dense, Conv2D, MaxPooling2D, UpSampling2D, Reshape, BatchNormalization, Flatten, Activation\n",
    "from keras.models import Sequential, Model, load_model\n",
    "from keras import optimizers, metrics\n",
    "from keras.callbacks import EarlyStopping, ModelCheckpoint, LearningRateScheduler\n",
    "from keras.layers import LSTM, Lambda, TimeDistributed, GRU, RepeatVector, CuDNNGRU"
   ]
  },
  {
   "cell_type": "code",
   "execution_count": 2,
   "metadata": {},
   "outputs": [],
   "source": [
    "%matplotlib inline\n",
    "plt.rcParams['figure.figsize'] = (12.0, 6.0)\n",
    "plt.rcParams['image.interpolation'] = 'nearest'\n",
    "plt.rcParams['image.cmap'] = 'gray'\n",
    "\n",
    "def plot_image(image, shape=[64, 64, 3]):\n",
    "    fig = plt.figure(figsize=(8, 8))\n",
    "    plt.imshow(image)\n",
    "    plt.axis(\"off\")\n",
    "\n",
    "def plot_images(images, num_images):\n",
    "    fig = plt.figure(figsize=(24, 8))\n",
    "    for i in range(0, num_images):\n",
    "        fig.add_subplot(num_images//5, 5, i+1)\n",
    "        plt.imshow(images[i])\n",
    "        plt.axis(\"off\")\n",
    "    plt.show()"
   ]
  },
  {
   "cell_type": "code",
   "execution_count": 3,
   "metadata": {
    "scrolled": false
   },
   "outputs": [
    {
     "name": "stdout",
     "output_type": "stream",
     "text": [
      "WARNING:tensorflow:From /usr/local/lib/python3.5/dist-packages/tensorflow/python/framework/op_def_library.py:263: colocate_with (from tensorflow.python.framework.ops) is deprecated and will be removed in a future version.\n",
      "Instructions for updating:\n",
      "Colocations handled automatically by placer.\n"
     ]
    },
    {
     "name": "stderr",
     "output_type": "stream",
     "text": [
      "/usr/local/lib/python3.5/dist-packages/keras/engine/saving.py:292: UserWarning: No training configuration found in save file: the model was *not* compiled. Compile it manually.\n",
      "  warnings.warn('No training configuration found in save file: '\n"
     ]
    },
    {
     "name": "stdout",
     "output_type": "stream",
     "text": [
      "WARNING:tensorflow:From /usr/local/lib/python3.5/dist-packages/tensorflow/python/ops/math_ops.py:3066: to_int32 (from tensorflow.python.ops.math_ops) is deprecated and will be removed in a future version.\n",
      "Instructions for updating:\n",
      "Use tf.cast instead.\n",
      "_________________________________________________________________\n",
      "Layer (type)                 Output Shape              Param #   \n",
      "=================================================================\n",
      "input_1 (InputLayer)         (None, 64, 64, 3)         0         \n",
      "_________________________________________________________________\n",
      "conv2d_2 (Conv2D)            (None, 64, 64, 128)       3584      \n",
      "_________________________________________________________________\n",
      "batch_normalization_2 (Batch (None, 64, 64, 128)       512       \n",
      "_________________________________________________________________\n",
      "max_pooling2d_1 (MaxPooling2 (None, 32, 32, 128)       0         \n",
      "_________________________________________________________________\n",
      "conv2d_3 (Conv2D)            (None, 32, 32, 64)        73792     \n",
      "_________________________________________________________________\n",
      "batch_normalization_3 (Batch (None, 32, 32, 64)        256       \n",
      "_________________________________________________________________\n",
      "conv2d_4 (Conv2D)            (None, 32, 32, 64)        36928     \n",
      "_________________________________________________________________\n",
      "batch_normalization_4 (Batch (None, 32, 32, 64)        256       \n",
      "_________________________________________________________________\n",
      "max_pooling2d_2 (MaxPooling2 (None, 16, 16, 64)        0         \n",
      "_________________________________________________________________\n",
      "conv2d_5 (Conv2D)            (None, 16, 16, 32)        18464     \n",
      "_________________________________________________________________\n",
      "batch_normalization_5 (Batch (None, 16, 16, 32)        128       \n",
      "_________________________________________________________________\n",
      "conv2d_6 (Conv2D)            (None, 16, 16, 32)        9248      \n",
      "_________________________________________________________________\n",
      "batch_normalization_6 (Batch (None, 16, 16, 32)        128       \n",
      "_________________________________________________________________\n",
      "max_pooling2d_3 (MaxPooling2 (None, 8, 8, 32)          0         \n",
      "_________________________________________________________________\n",
      "conv2d_7 (Conv2D)            (None, 8, 8, 16)          4624      \n",
      "_________________________________________________________________\n",
      "batch_normalization_7 (Batch (None, 8, 8, 16)          64        \n",
      "_________________________________________________________________\n",
      "conv2d_8 (Conv2D)            (None, 8, 8, 16)          2320      \n",
      "_________________________________________________________________\n",
      "batch_normalization_8 (Batch (None, 8, 8, 16)          64        \n",
      "_________________________________________________________________\n",
      "max_pooling2d_4 (MaxPooling2 (None, 4, 4, 16)          0         \n",
      "_________________________________________________________________\n",
      "flatten_1 (Flatten)          (None, 256)               0         \n",
      "_________________________________________________________________\n",
      "dense_1 (Dense)              (None, 256)               65792     \n",
      "=================================================================\n",
      "Total params: 216,160\n",
      "Trainable params: 0\n",
      "Non-trainable params: 216,160\n",
      "_________________________________________________________________\n",
      "_________________________________________________________________\n",
      "Layer (type)                 Output Shape              Param #   \n",
      "=================================================================\n",
      "input_2 (InputLayer)         (None, 256)               0         \n",
      "_________________________________________________________________\n",
      "reshape_1 (Reshape)          (None, 4, 4, 16)          0         \n",
      "_________________________________________________________________\n",
      "conv2d_9 (Conv2D)            (None, 4, 4, 16)          2320      \n",
      "_________________________________________________________________\n",
      "batch_normalization_9 (Batch (None, 4, 4, 16)          64        \n",
      "_________________________________________________________________\n",
      "conv2d_10 (Conv2D)           (None, 4, 4, 16)          2320      \n",
      "_________________________________________________________________\n",
      "batch_normalization_10 (Batc (None, 4, 4, 16)          64        \n",
      "_________________________________________________________________\n",
      "up_sampling2d_1 (UpSampling2 (None, 8, 8, 16)          0         \n",
      "_________________________________________________________________\n",
      "conv2d_11 (Conv2D)           (None, 8, 8, 32)          4640      \n",
      "_________________________________________________________________\n",
      "batch_normalization_11 (Batc (None, 8, 8, 32)          128       \n",
      "_________________________________________________________________\n",
      "conv2d_12 (Conv2D)           (None, 8, 8, 32)          9248      \n",
      "_________________________________________________________________\n",
      "batch_normalization_12 (Batc (None, 8, 8, 32)          128       \n",
      "_________________________________________________________________\n",
      "up_sampling2d_2 (UpSampling2 (None, 16, 16, 32)        0         \n",
      "_________________________________________________________________\n",
      "conv2d_13 (Conv2D)           (None, 16, 16, 64)        18496     \n",
      "_________________________________________________________________\n",
      "batch_normalization_13 (Batc (None, 16, 16, 64)        256       \n",
      "_________________________________________________________________\n",
      "conv2d_14 (Conv2D)           (None, 16, 16, 64)        36928     \n",
      "_________________________________________________________________\n",
      "batch_normalization_14 (Batc (None, 16, 16, 64)        256       \n",
      "_________________________________________________________________\n",
      "up_sampling2d_3 (UpSampling2 (None, 32, 32, 64)        0         \n",
      "_________________________________________________________________\n",
      "conv2d_15 (Conv2D)           (None, 32, 32, 128)       73856     \n",
      "_________________________________________________________________\n",
      "batch_normalization_15 (Batc (None, 32, 32, 128)       512       \n",
      "_________________________________________________________________\n",
      "conv2d_16 (Conv2D)           (None, 32, 32, 128)       147584    \n",
      "_________________________________________________________________\n",
      "batch_normalization_16 (Batc (None, 32, 32, 128)       512       \n",
      "_________________________________________________________________\n",
      "up_sampling2d_4 (UpSampling2 (None, 64, 64, 128)       0         \n",
      "_________________________________________________________________\n",
      "conv2d_17 (Conv2D)           (None, 64, 64, 3)         3459      \n",
      "=================================================================\n",
      "Total params: 300,771\n",
      "Trainable params: 0\n",
      "Non-trainable params: 300,771\n",
      "_________________________________________________________________\n",
      "_________________________________________________________________\n",
      "Layer (type)                 Output Shape              Param #   \n",
      "=================================================================\n",
      "input_6 (InputLayer)         (None, 10, 256)           0         \n",
      "_________________________________________________________________\n",
      "lstm_11 (LSTM)               (None, 1600)              11884800  \n",
      "_________________________________________________________________\n",
      "repeat_vector_6 (RepeatVecto (None, 10, 1600)          0         \n",
      "_________________________________________________________________\n",
      "lstm_12 (LSTM)               (None, 10, 1600)          20486400  \n",
      "_________________________________________________________________\n",
      "time_distributed_6 (TimeDist (None, 10, 256)           409856    \n",
      "=================================================================\n",
      "Total params: 65,562,112\n",
      "Trainable params: 32,781,056\n",
      "Non-trainable params: 32,781,056\n",
      "_________________________________________________________________\n"
     ]
    },
    {
     "name": "stderr",
     "output_type": "stream",
     "text": [
      "/usr/local/lib/python3.5/dist-packages/keras/engine/training.py:490: UserWarning: Discrepancy between trainable weights and collected trainable weights, did you set `model.trainable` without calling `model.compile` after ?\n",
      "  'Discrepancy between trainable weights and collected trainable'\n"
     ]
    }
   ],
   "source": [
    "encoder = load_model('./models/Encoder(256).hdf5')\n",
    "decoder = load_model('./models/Decoder(256).hdf5')\n",
    "model = load_model('./models/LSTM(256).hdf5')\n",
    "encoder.trainable = False\n",
    "decoder.trainable = False\n",
    "model.trainable = False\n",
    "encoder.summary()\n",
    "decoder.summary()\n",
    "model.summary()"
   ]
  },
  {
   "cell_type": "code",
   "execution_count": 4,
   "metadata": {},
   "outputs": [],
   "source": [
    "from PIL import Image as im\n",
    "import os\n",
    "dir = 'Data/test_predicted/'\n",
    "if not os.path.exists(dir):\n",
    "    os.mkdir(dir)\n",
    "for idx in range(500):\n",
    "    img_folder = os.path.join(dir, 'sequence%03d' % idx)\n",
    "    if not os.path.exists(img_folder):\n",
    "        os.mkdir(img_folder)\n",
    "    inputs = get_test_batch(idx, idx+1)\n",
    "    inputs = np.reshape(inputs, (-1, 64, 64, 3))\n",
    "    encoded_inputs = encoder.predict_on_batch(inputs)\n",
    "    encoded_inputs = encoded_inputs[None, :, :]\n",
    "    features = model.predict_on_batch(encoded_inputs)\n",
    "    features = np.reshape(features, (-1, 256))\n",
    "    outputs = decoder.predict_on_batch(features)\n",
    "    outputs = outputs * 255.0\n",
    "    outputs = np.round(outputs)\n",
    "    outputs = outputs.astype('int')\n",
    "    outputs = np.clip(outputs, 0, 255)\n",
    "    for t in range(10):\n",
    "        img = im.fromarray(outputs[t].astype('uint8'))\n",
    "        img_path = os.path.join(dir, 'sequence%03d' % idx, 'frames%02d.png' % t)\n",
    "        img.save(img_path)"
   ]
  },
  {
   "cell_type": "code",
   "execution_count": 5,
   "metadata": {
    "scrolled": false
   },
   "outputs": [
    {
     "name": "stdout",
     "output_type": "stream",
     "text": [
      "['sequence000', 'sequence001', 'sequence002', 'sequence003', 'sequence004', 'sequence005', 'sequence006', 'sequence007', 'sequence008', 'sequence009', 'sequence010', 'sequence011', 'sequence012', 'sequence013', 'sequence014', 'sequence015', 'sequence016', 'sequence017', 'sequence018', 'sequence019', 'sequence020', 'sequence021', 'sequence022', 'sequence023', 'sequence024', 'sequence025', 'sequence026', 'sequence027', 'sequence028', 'sequence029', 'sequence030', 'sequence031', 'sequence032', 'sequence033', 'sequence034', 'sequence035', 'sequence036', 'sequence037', 'sequence038', 'sequence039', 'sequence040', 'sequence041', 'sequence042', 'sequence043', 'sequence044', 'sequence045', 'sequence046', 'sequence047', 'sequence048', 'sequence049', 'sequence050', 'sequence051', 'sequence052', 'sequence053', 'sequence054', 'sequence055', 'sequence056', 'sequence057', 'sequence058', 'sequence059', 'sequence060', 'sequence061', 'sequence062', 'sequence063', 'sequence064', 'sequence065', 'sequence066', 'sequence067', 'sequence068', 'sequence069', 'sequence070', 'sequence071', 'sequence072', 'sequence073', 'sequence074', 'sequence075', 'sequence076', 'sequence077', 'sequence078', 'sequence079', 'sequence080', 'sequence081', 'sequence082', 'sequence083', 'sequence084', 'sequence085', 'sequence086', 'sequence087', 'sequence088', 'sequence089', 'sequence090', 'sequence091', 'sequence092', 'sequence093', 'sequence094', 'sequence095', 'sequence096', 'sequence097', 'sequence098', 'sequence099', 'sequence100', 'sequence101', 'sequence102', 'sequence103', 'sequence104', 'sequence105', 'sequence106', 'sequence107', 'sequence108', 'sequence109', 'sequence110', 'sequence111', 'sequence112', 'sequence113', 'sequence114', 'sequence115', 'sequence116', 'sequence117', 'sequence118', 'sequence119', 'sequence120', 'sequence121', 'sequence122', 'sequence123', 'sequence124', 'sequence125', 'sequence126', 'sequence127', 'sequence128', 'sequence129', 'sequence130', 'sequence131', 'sequence132', 'sequence133', 'sequence134', 'sequence135', 'sequence136', 'sequence137', 'sequence138', 'sequence139', 'sequence140', 'sequence141', 'sequence142', 'sequence143', 'sequence144', 'sequence145', 'sequence146', 'sequence147', 'sequence148', 'sequence149', 'sequence150', 'sequence151', 'sequence152', 'sequence153', 'sequence154', 'sequence155', 'sequence156', 'sequence157', 'sequence158', 'sequence159', 'sequence160', 'sequence161', 'sequence162', 'sequence163', 'sequence164', 'sequence165', 'sequence166', 'sequence167', 'sequence168', 'sequence169', 'sequence170', 'sequence171', 'sequence172', 'sequence173', 'sequence174', 'sequence175', 'sequence176', 'sequence177', 'sequence178', 'sequence179', 'sequence180', 'sequence181', 'sequence182', 'sequence183', 'sequence184', 'sequence185', 'sequence186', 'sequence187', 'sequence188', 'sequence189', 'sequence190', 'sequence191', 'sequence192', 'sequence193', 'sequence194', 'sequence195', 'sequence196', 'sequence197', 'sequence198', 'sequence199', 'sequence200', 'sequence201', 'sequence202', 'sequence203', 'sequence204', 'sequence205', 'sequence206', 'sequence207', 'sequence208', 'sequence209', 'sequence210', 'sequence211', 'sequence212', 'sequence213', 'sequence214', 'sequence215', 'sequence216', 'sequence217', 'sequence218', 'sequence219', 'sequence220', 'sequence221', 'sequence222', 'sequence223', 'sequence224', 'sequence225', 'sequence226', 'sequence227', 'sequence228', 'sequence229', 'sequence230', 'sequence231', 'sequence232', 'sequence233', 'sequence234', 'sequence235', 'sequence236', 'sequence237', 'sequence238', 'sequence239', 'sequence240', 'sequence241', 'sequence242', 'sequence243', 'sequence244', 'sequence245', 'sequence246', 'sequence247', 'sequence248', 'sequence249', 'sequence250', 'sequence251', 'sequence252', 'sequence253', 'sequence254', 'sequence255', 'sequence256', 'sequence257', 'sequence258', 'sequence259', 'sequence260', 'sequence261', 'sequence262', 'sequence263', 'sequence264', 'sequence265', 'sequence266', 'sequence267', 'sequence268', 'sequence269', 'sequence270', 'sequence271', 'sequence272', 'sequence273', 'sequence274', 'sequence275', 'sequence276', 'sequence277', 'sequence278', 'sequence279', 'sequence280', 'sequence281', 'sequence282', 'sequence283', 'sequence284', 'sequence285', 'sequence286', 'sequence287', 'sequence288', 'sequence289', 'sequence290', 'sequence291', 'sequence292', 'sequence293', 'sequence294', 'sequence295', 'sequence296', 'sequence297', 'sequence298', 'sequence299', 'sequence300', 'sequence301', 'sequence302', 'sequence303', 'sequence304', 'sequence305', 'sequence306', 'sequence307', 'sequence308', 'sequence309', 'sequence310', 'sequence311', 'sequence312', 'sequence313', 'sequence314', 'sequence315', 'sequence316', 'sequence317', 'sequence318', 'sequence319', 'sequence320', 'sequence321', 'sequence322', 'sequence323', 'sequence324', 'sequence325', 'sequence326', 'sequence327', 'sequence328', 'sequence329', 'sequence330', 'sequence331', 'sequence332', 'sequence333', 'sequence334', 'sequence335', 'sequence336', 'sequence337', 'sequence338', 'sequence339', 'sequence340', 'sequence341', 'sequence342', 'sequence343', 'sequence344', 'sequence345', 'sequence346', 'sequence347', 'sequence348', 'sequence349', 'sequence350', 'sequence351', 'sequence352', 'sequence353', 'sequence354', 'sequence355', 'sequence356', 'sequence357', 'sequence358', 'sequence359', 'sequence360', 'sequence361', 'sequence362', 'sequence363', 'sequence364', 'sequence365', 'sequence366', 'sequence367', 'sequence368', 'sequence369', 'sequence370', 'sequence371', 'sequence372', 'sequence373', 'sequence374', 'sequence375', 'sequence376', 'sequence377', 'sequence378', 'sequence379', 'sequence380', 'sequence381', 'sequence382', 'sequence383', 'sequence384', 'sequence385', 'sequence386', 'sequence387', 'sequence388', 'sequence389', 'sequence390', 'sequence391', 'sequence392', 'sequence393', 'sequence394', 'sequence395', 'sequence396', 'sequence397', 'sequence398', 'sequence399', 'sequence400', 'sequence401', 'sequence402', 'sequence403', 'sequence404', 'sequence405', 'sequence406', 'sequence407', 'sequence408', 'sequence409', 'sequence410', 'sequence411', 'sequence412', 'sequence413', 'sequence414', 'sequence415', 'sequence416', 'sequence417', 'sequence418', 'sequence419', 'sequence420', 'sequence421', 'sequence422', 'sequence423', 'sequence424', 'sequence425', 'sequence426', 'sequence427', 'sequence428', 'sequence429', 'sequence430', 'sequence431', 'sequence432', 'sequence433', 'sequence434', 'sequence435', 'sequence436', 'sequence437', 'sequence438', 'sequence439', 'sequence440', 'sequence441', 'sequence442', 'sequence443', 'sequence444', 'sequence445', 'sequence446', 'sequence447', 'sequence448', 'sequence449', 'sequence450', 'sequence451', 'sequence452', 'sequence453', 'sequence454', 'sequence455', 'sequence456', 'sequence457', 'sequence458', 'sequence459', 'sequence460', 'sequence461', 'sequence462', 'sequence463', 'sequence464', 'sequence465', 'sequence466', 'sequence467', 'sequence468', 'sequence469', 'sequence470', 'sequence471', 'sequence472', 'sequence473', 'sequence474', 'sequence475', 'sequence476', 'sequence477', 'sequence478', 'sequence479', 'sequence480', 'sequence481', 'sequence482', 'sequence483', 'sequence484', 'sequence485', 'sequence486', 'sequence487', 'sequence488', 'sequence489', 'sequence490', 'sequence491', 'sequence492', 'sequence493', 'sequence494', 'sequence495', 'sequence496', 'sequence497', 'sequence498', 'sequence499']\n"
     ]
    }
   ],
   "source": [
    "run make_submission_file.py"
   ]
  },
  {
   "cell_type": "code",
   "execution_count": null,
   "metadata": {},
   "outputs": [],
   "source": []
  }
 ],
 "metadata": {
  "kernelspec": {
   "display_name": "Python 3",
   "language": "python",
   "name": "python3"
  },
  "language_info": {
   "codemirror_mode": {
    "name": "ipython",
    "version": 3
   },
   "file_extension": ".py",
   "mimetype": "text/x-python",
   "name": "python",
   "nbconvert_exporter": "python",
   "pygments_lexer": "ipython3",
   "version": "3.5.3"
  }
 },
 "nbformat": 4,
 "nbformat_minor": 2
}
